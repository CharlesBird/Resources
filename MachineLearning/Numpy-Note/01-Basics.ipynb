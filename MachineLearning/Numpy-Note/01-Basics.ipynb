{
 "cells": [
  {
   "cell_type": "markdown",
   "metadata": {},
   "source": [
    "# Numpy 多维数组基础及运算详解"
   ]
  },
  {
   "cell_type": "markdown",
   "metadata": {},
   "source": [
    "## 概述"
   ]
  },
  {
   "cell_type": "markdown",
   "metadata": {},
   "source": [
    "### Numpy是python数值计算非常重要的包，其他许多python科学计算的包都是以它为基础，比如： Scipy，Matplolib，Pandas等。\n",
    "### 提供了高效的大数据处理能力，比python内置的list序列更少的内存占用及速度快了很多，因为Numpy是在一个连续的内存块中存储数据以及直接在整个数组上执行复杂计算。"
   ]
  },
  {
   "cell_type": "markdown",
   "metadata": {},
   "source": [
    "## 多维数组"
   ]
  },
  {
   "cell_type": "markdown",
   "metadata": {},
   "source": [
    "### 灵活高效的处理多维数组，多维数组对象：numpy.ndarray。ndarray对象内的元素必须是相同类型的。"
   ]
  },
  {
   "cell_type": "markdown",
   "metadata": {},
   "source": [
    "## 创建多维数组ndarray对象的方法"
   ]
  },
  {
   "cell_type": "markdown",
   "metadata": {},
   "source": [
    "### 1.使用array函数创建"
   ]
  },
  {
   "cell_type": "code",
   "execution_count": 1,
   "metadata": {},
   "outputs": [],
   "source": [
    "import numpy as np"
   ]
  },
  {
   "cell_type": "code",
   "execution_count": 2,
   "metadata": {},
   "outputs": [
    {
     "name": "stdout",
     "output_type": "stream",
     "text": [
      "res_1:  [1 2 3] <class 'numpy.ndarray'>\n",
      "res_2:  [0 1 2 3 4 5 6 7 8 9] <class 'numpy.ndarray'>\n",
      "res_3:  [0 1 2 3 4 5 6 7 8 9] <class 'numpy.ndarray'>\n",
      "resn_4:  5 <class 'numpy.ndarray'>\n",
      "res_5:  6.8 <class 'numpy.ndarray'>\n"
     ]
    }
   ],
   "source": [
    "# 第一个参数可以是：可迭代对象，整数，浮点数，其他ndarray对象\n",
    "res_1 = np.array([1,2,3])\n",
    "print('res_1: ', res_1, type(res_1))\n",
    "\n",
    "res_2 = np.array(range(10))\n",
    "print('res_2: ', res_2, type(res_2))\n",
    "\n",
    "res_3 = np.array(res_2)\n",
    "print('res_3: ', res_3, type(res_3))\n",
    "\n",
    "res_4 = np.array(5)\n",
    "print('resn_4: ', res_4, type(res_4))\n",
    "\n",
    "res_5 = np.array(6.8)\n",
    "print('res_5: ', res_5, type(res_5))"
   ]
  },
  {
   "cell_type": "code",
   "execution_count": 3,
   "metadata": {},
   "outputs": [
    {
     "name": "stdout",
     "output_type": "stream",
     "text": [
      "[[1 2 3]\n",
      " [4 5 6]]\n"
     ]
    }
   ],
   "source": [
    "# 也可以是嵌套的序列生成的多维的ndarray对象\n",
    "res_1 = np.array([[1,2,3], [4,5,6]])\n",
    "print(res_1)"
   ]
  },
  {
   "cell_type": "markdown",
   "metadata": {},
   "source": [
    "### 2.使用zeros函数创建全0数组"
   ]
  },
  {
   "cell_type": "code",
   "execution_count": 4,
   "metadata": {},
   "outputs": [
    {
     "name": "stdout",
     "output_type": "stream",
     "text": [
      "res_1: \n",
      "[0. 0. 0. 0. 0.]\n",
      "res_2: \n",
      "[[0. 0.]\n",
      " [0. 0.]\n",
      " [0. 0.]]\n",
      "res_3: \n",
      "[[[0. 0. 0. 0.]\n",
      "  [0. 0. 0. 0.]\n",
      "  [0. 0. 0. 0.]]\n",
      "\n",
      " [[0. 0. 0. 0.]\n",
      "  [0. 0. 0. 0.]\n",
      "  [0. 0. 0. 0.]]]\n"
     ]
    }
   ],
   "source": [
    "# 第一个参数可以是：指定一个长度、可迭代对象指定形状\n",
    "# 形状的指定一般是2个数字组成，第一个为行数，第二个为列数，如3行2列是(3,2)\n",
    "# 若是三个数字组成，第一个为最外层的维数，第二个为次外层的维数，第三个为最里面具体元素的个数。若是4个数字组成，以此类推。\n",
    "res_1 = np.zeros(5)\n",
    "print('res_1: ')\n",
    "print(res_1)\n",
    "\n",
    "res_2 = np.zeros((3,2))\n",
    "print('res_2: ')\n",
    "print(res_2)\n",
    "\n",
    "res_3 = np.zeros((2,3,4))\n",
    "print('res_3: ')\n",
    "print(res_3)"
   ]
  },
  {
   "cell_type": "markdown",
   "metadata": {},
   "source": [
    "### 3.使用ones函数创建全1的数组"
   ]
  },
  {
   "cell_type": "markdown",
   "metadata": {},
   "source": [
    "### 4.使用empty函数创建没有任何意义的数组"
   ]
  },
  {
   "cell_type": "code",
   "execution_count": 5,
   "metadata": {},
   "outputs": [
    {
     "name": "stdout",
     "output_type": "stream",
     "text": [
      "res_1: \n",
      "[1. 1. 1. 1. 1.]\n",
      "res_2: \n",
      "[[1. 1.]\n",
      " [1. 1.]\n",
      " [1. 1.]]\n",
      "res_3: \n",
      "[[[1. 1. 1. 1.]\n",
      "  [1. 1. 1. 1.]\n",
      "  [1. 1. 1. 1.]]\n",
      "\n",
      " [[1. 1. 1. 1.]\n",
      "  [1. 1. 1. 1.]\n",
      "  [1. 1. 1. 1.]]]\n",
      "res_4: \n",
      "[1. 1. 1. 1. 1.]\n",
      "res_5: \n",
      "[[1. 1.]\n",
      " [1. 1.]\n",
      " [1. 1.]]\n",
      "res_6: \n",
      "[[[1. 1. 1. 1.]\n",
      "  [1. 1. 1. 1.]\n",
      "  [1. 1. 1. 1.]]\n",
      "\n",
      " [[1. 1. 1. 1.]\n",
      "  [1. 1. 1. 1.]\n",
      "  [1. 1. 1. 1.]]]\n"
     ]
    }
   ],
   "source": [
    "# ones 和 empty用法同zeros相同\n",
    "res_1 = np.ones(5)\n",
    "print('res_1: ')\n",
    "print(res_1)\n",
    "\n",
    "res_2 = np.ones((3,2))\n",
    "print('res_2: ')\n",
    "print(res_2)\n",
    "\n",
    "res_3 = np.ones((2,3,4))\n",
    "print('res_3: ')\n",
    "print(res_3)\n",
    "\n",
    "res_4 = np.empty(5)\n",
    "print('res_4: ')\n",
    "print(res_4)\n",
    "\n",
    "res_5 = np.empty((3,2))\n",
    "print('res_5: ')\n",
    "print(res_5)\n",
    "\n",
    "res_6 = np.empty((2,3,4))\n",
    "print('res_6: ')\n",
    "print(res_6)"
   ]
  },
  {
   "cell_type": "markdown",
   "metadata": {},
   "source": [
    "### 5.使用arange函数直接创建连续数字的数组，跟python的range函数类似"
   ]
  },
  {
   "cell_type": "code",
   "execution_count": 6,
   "metadata": {},
   "outputs": [
    {
     "name": "stdout",
     "output_type": "stream",
     "text": [
      "res_1: \n",
      "[0 1 2 3 4 5 6 7 8 9]\n"
     ]
    }
   ],
   "source": [
    "res_1 = np.arange(10)\n",
    "print('res_1: ')\n",
    "print(res_1)"
   ]
  },
  {
   "cell_type": "markdown",
   "metadata": {},
   "source": [
    "### 6.使用random函数创建一些随机数"
   ]
  },
  {
   "cell_type": "code",
   "execution_count": 7,
   "metadata": {},
   "outputs": [
    {
     "name": "stdout",
     "output_type": "stream",
     "text": [
      "[[-1.02325101 -1.48226891 -0.41572466]\n",
      " [-1.3249811   0.33013038 -1.18599032]\n",
      " [-0.61031148  0.18636114 -1.02426019]\n",
      " [-0.12950036 -1.54083362  0.66516575]]\n"
     ]
    }
   ],
   "source": [
    "# random.randn(行, 列) 创建具有正太分布的随机数组\n",
    "res_1 = np.random.randn(4,3)\n",
    "print(res_1)"
   ]
  },
  {
   "cell_type": "code",
   "execution_count": 8,
   "metadata": {},
   "outputs": [
    {
     "name": "stdout",
     "output_type": "stream",
     "text": [
      "[4 5 2 3 5 2 3 3 2 4]\n"
     ]
    }
   ],
   "source": [
    "# random.randint(最小值, 最大值, 个数) 创建随机的整数型数组\n",
    "res_1 = np.random.randint(2,6,10)\n",
    "print(res_1)"
   ]
  },
  {
   "cell_type": "markdown",
   "metadata": {},
   "source": [
    "## 多维数组对象ndarray的数据类型"
   ]
  },
  {
   "cell_type": "markdown",
   "metadata": {},
   "source": [
    "### 1.可通过dtype属性查看数组内元素的数据类型"
   ]
  },
  {
   "cell_type": "code",
   "execution_count": 9,
   "metadata": {},
   "outputs": [
    {
     "name": "stdout",
     "output_type": "stream",
     "text": [
      "res_1: \n",
      "[0 1 2 3 4 5 6 7 8 9]\n",
      "int32\n"
     ]
    }
   ],
   "source": [
    "res_1 = np.arange(10)\n",
    "print('res_1: ')\n",
    "print(res_1)\n",
    "print(res_1.dtype)"
   ]
  },
  {
   "cell_type": "code",
   "execution_count": 10,
   "metadata": {},
   "outputs": [
    {
     "name": "stdout",
     "output_type": "stream",
     "text": [
      "res_1: \n",
      "[1. 2. 3.]\n",
      "float64\n"
     ]
    }
   ],
   "source": [
    "# 创建ndarray对象时，可以指定数据类型，只需要dtype参数设置一下\n",
    "res_1 = np.array([1,2,3], dtype=np.float64)\n",
    "print('res_1: ')\n",
    "print(res_1)\n",
    "print(res_1.dtype)"
   ]
  },
  {
   "cell_type": "code",
   "execution_count": 11,
   "metadata": {},
   "outputs": [
    {
     "name": "stdout",
     "output_type": "stream",
     "text": [
      "res_1: \n",
      "[1. 2. 3.]\n",
      "float64\n"
     ]
    }
   ],
   "source": [
    "# 简写模式，即类型代码，float64简写为：f8 因为占8个字节\n",
    "# 这段代码和上面等效\n",
    "res_1 = np.array([1,2,3], dtype='f8')\n",
    "print('res_1: ')\n",
    "print(res_1)\n",
    "print(res_1.dtype)"
   ]
  },
  {
   "cell_type": "code",
   "execution_count": 12,
   "metadata": {},
   "outputs": [],
   "source": [
    "# 具体数据类型参考\n",
    "# http://note.youdao.com/noteshare?id=95aed84de9dac3a734db91d986081361&sub=F6C4D4A49299403F84262303545AA98D 中的numpy 数据类型"
   ]
  },
  {
   "cell_type": "markdown",
   "metadata": {},
   "source": [
    "### 2.若要改变已经创建好了的数组的数据类型，可以用ndarray对象的astype函数"
   ]
  },
  {
   "cell_type": "code",
   "execution_count": 13,
   "metadata": {},
   "outputs": [
    {
     "name": "stdout",
     "output_type": "stream",
     "text": [
      "res_1: \n",
      "[1. 2. 3.]\n",
      "float64\n",
      "res_2: \n",
      "[1 2 3]\n",
      "uint32\n"
     ]
    }
   ],
   "source": [
    "res_1 = np.array([1,2,3], dtype='f8')\n",
    "print('res_1: ')\n",
    "print(res_1)\n",
    "print(res_1.dtype)\n",
    "\n",
    "res_2 = res_1.astype('u4')\n",
    "print('res_2: ')\n",
    "print(res_2)\n",
    "print(res_2.dtype)"
   ]
  },
  {
   "cell_type": "code",
   "execution_count": 14,
   "metadata": {},
   "outputs": [
    {
     "name": "stdout",
     "output_type": "stream",
     "text": [
      "res_1: \n",
      "['1' '2' '3']\n",
      "<U1\n",
      "res_2: \n",
      "[1 2 3]\n",
      "uint32\n"
     ]
    }
   ],
   "source": [
    "# 将unicode 数字类型转为整形或浮点型。必须是纯数字字符，不然会报错\n",
    "res_1 = np.array(['1','2','3'])\n",
    "print('res_1: ')\n",
    "print(res_1)\n",
    "print(res_1.dtype)\n",
    "\n",
    "res_2 = res_1.astype('u4')\n",
    "print('res_2: ')\n",
    "print(res_2)\n",
    "print(res_2.dtype)"
   ]
  },
  {
   "cell_type": "code",
   "execution_count": 15,
   "metadata": {},
   "outputs": [],
   "source": [
    "# \"<U1\"数据类型\n",
    "# <: 表示字节顺序，小端模式\n",
    "# U: 表示Unicode类型\n",
    "# 1: 表示元素的长度"
   ]
  },
  {
   "cell_type": "markdown",
   "metadata": {},
   "source": [
    "## 多维数组的运算"
   ]
  },
  {
   "cell_type": "markdown",
   "metadata": {},
   "source": [
    "### 简单运算"
   ]
  },
  {
   "cell_type": "code",
   "execution_count": 16,
   "metadata": {},
   "outputs": [
    {
     "name": "stdout",
     "output_type": "stream",
     "text": [
      "[[ 2  4  6]\n",
      " [ 8 10 12]]\n"
     ]
    }
   ],
   "source": [
    "# 每个元素乘以2\n",
    "res_1 = np.array([[1,2,3],[4,5,6]])\n",
    "res_2 = res_1 * 2\n",
    "print(res_2)"
   ]
  },
  {
   "cell_type": "code",
   "execution_count": 17,
   "metadata": {},
   "outputs": [
    {
     "name": "stdout",
     "output_type": "stream",
     "text": [
      "[[ 8 10 12]\n",
      " [11 13 15]]\n"
     ]
    }
   ],
   "source": [
    "# ndarray 对象之间的运算\n",
    "res_1 = np.array([[1,2,3],[4,5,6]])\n",
    "res_2 = np.array([7,8,9])\n",
    "print(res_1+res_2)"
   ]
  },
  {
   "cell_type": "code",
   "execution_count": 18,
   "metadata": {},
   "outputs": [
    {
     "name": "stdout",
     "output_type": "stream",
     "text": [
      "[[False False False]\n",
      " [ True  True  True]]\n"
     ]
    }
   ],
   "source": [
    "# 多维数组之间比较，会产生一个布尔类型的数组\n",
    "res_1 = np.array([[1,2,3],[10,11,12]])\n",
    "res_2 = np.array([7,8,9])\n",
    "print(res_1 > res_2)"
   ]
  },
  {
   "cell_type": "markdown",
   "metadata": {},
   "source": [
    "### 一元运算"
   ]
  },
  {
   "cell_type": "code",
   "execution_count": 19,
   "metadata": {},
   "outputs": [
    {
     "name": "stdout",
     "output_type": "stream",
     "text": [
      "[[1.         1.41421356 1.73205081 2.         2.23606798 2.44948974]]\n",
      "[[ 0.84147098  0.90929743  0.14112001 -0.7568025  -0.95892427 -0.2794155 ]]\n"
     ]
    }
   ],
   "source": [
    "res_1 = np.array([[1,2,3,4,5,6]])\n",
    "print(np.sqrt(res_1))\n",
    "print(np.sin(res_1))"
   ]
  },
  {
   "cell_type": "code",
   "execution_count": 20,
   "metadata": {},
   "outputs": [],
   "source": [
    "# 常见一元运算参考\n",
    "# http://note.youdao.com/noteshare?id=95aed84de9dac3a734db91d986081361&sub=F6C4D4A49299403F84262303545AA98D 中的一元ufunc"
   ]
  },
  {
   "cell_type": "markdown",
   "metadata": {},
   "source": [
    "### 二元运算"
   ]
  },
  {
   "cell_type": "code",
   "execution_count": 21,
   "metadata": {},
   "outputs": [
    {
     "name": "stdout",
     "output_type": "stream",
     "text": [
      "[ 7  8  9 10 11 66]\n",
      "5\n"
     ]
    }
   ],
   "source": [
    "res_1 = np.array([1,2,3,4,5,66])\n",
    "res_2 = np.array([7,8,9,10,11,33])\n",
    "print(np.maximum(res_1, res_2))\n",
    "print(np.add(2,3))"
   ]
  },
  {
   "cell_type": "code",
   "execution_count": 22,
   "metadata": {},
   "outputs": [],
   "source": [
    "# 常用的二元运算参考\n",
    "# http://note.youdao.com/noteshare?id=95aed84de9dac3a734db91d986081361&sub=F6C4D4A49299403F84262303545AA98D 中的二元ufunc"
   ]
  },
  {
   "cell_type": "markdown",
   "metadata": {},
   "source": [
    "### 三元运算"
   ]
  },
  {
   "cell_type": "code",
   "execution_count": 23,
   "metadata": {},
   "outputs": [
    {
     "name": "stdout",
     "output_type": "stream",
     "text": [
      "[  0   0   0 999 999]\n"
     ]
    }
   ],
   "source": [
    "# 有时候np.where(cond,one,two) 函数可以很方便处理数组，参数：cond为条件，若数组元素级满足条件就置换为one，否则two\n",
    "res_1 = np.array([-1,-2,-3,4,88])\n",
    "\n",
    "res = np.where(res_1 < 0, 0, 999)\n",
    "print(res)"
   ]
  },
  {
   "cell_type": "markdown",
   "metadata": {},
   "source": [
    "### 集合运算"
   ]
  },
  {
   "cell_type": "code",
   "execution_count": 24,
   "metadata": {},
   "outputs": [
    {
     "name": "stdout",
     "output_type": "stream",
     "text": [
      "[5 3 6 5 4 2 1 2]\n",
      "**************************************************\n",
      "[1 2 3 4 5 6]\n"
     ]
    }
   ],
   "source": [
    "# numpy中提供一些针对一维的集合运算，如unique函数、in1d函数等\n",
    "# unique函数，跟python中的set集合类似，但unique函数的输出结果是排好序的\n",
    "res_1 = np.array([5,3,6,5,4,2,1,2])\n",
    "print(res_1)\n",
    "print('*' * 50)\n",
    "\n",
    "print(np.unique(res_1))"
   ]
  },
  {
   "cell_type": "code",
   "execution_count": 25,
   "metadata": {},
   "outputs": [
    {
     "name": "stdout",
     "output_type": "stream",
     "text": [
      "[5 3 6 5 4 2 1 2]\n",
      "**************************************************\n",
      "[ True  True False  True False False False False]\n"
     ]
    }
   ],
   "source": [
    "# in1d()函数返回一个布尔型数组，用于判断一个数组的元素是否有在另一个数组内\n",
    "res_1 = np.array([5,3,6,5,4,2,1,2])\n",
    "print(res_1)\n",
    "print('*' * 50)\n",
    "\n",
    "print(np.in1d(res_1, [5,3]))"
   ]
  },
  {
   "cell_type": "code",
   "execution_count": 26,
   "metadata": {},
   "outputs": [],
   "source": [
    "# 其他集合运算参考\n",
    "# http://note.youdao.com/noteshare?id=95aed84de9dac3a734db91d986081361&sub=F6C4D4A49299403F84262303545AA98D 中的数组的集合运算"
   ]
  }
 ],
 "metadata": {
  "kernelspec": {
   "display_name": "Python 3",
   "language": "python",
   "name": "python3"
  },
  "language_info": {
   "codemirror_mode": {
    "name": "ipython",
    "version": 3
   },
   "file_extension": ".py",
   "mimetype": "text/x-python",
   "name": "python",
   "nbconvert_exporter": "python",
   "pygments_lexer": "ipython3",
   "version": "3.7.3"
  }
 },
 "nbformat": 4,
 "nbformat_minor": 2
}
