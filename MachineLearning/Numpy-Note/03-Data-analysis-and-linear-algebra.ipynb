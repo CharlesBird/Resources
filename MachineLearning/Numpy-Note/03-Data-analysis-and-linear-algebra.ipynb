{
 "cells": [
  {
   "cell_type": "markdown",
   "metadata": {},
   "source": [
    "# Numpy多维数组数据分析及线性代数详解"
   ]
  },
  {
   "cell_type": "markdown",
   "metadata": {},
   "source": [
    "## 概述"
   ]
  },
  {
   "cell_type": "markdown",
   "metadata": {},
   "source": [
    "### Numpy多维数组也可以做一些简单的数据分析，虽然数据分析处理主要是其他库，如Pandas等，但这些高级库都是以Numpy为基础的。"
   ]
  },
  {
   "cell_type": "markdown",
   "metadata": {},
   "source": [
    "## 数据统计"
   ]
  },
  {
   "cell_type": "code",
   "execution_count": 2,
   "metadata": {},
   "outputs": [
    {
     "name": "stdout",
     "output_type": "stream",
     "text": [
      "[[-2.11976712 -2.04553017]\n",
      " [-1.34242519 -0.12176553]]\n",
      "**************************************************\n",
      "-1.4073719991317513\n",
      "-5.629487996527005\n"
     ]
    }
   ],
   "source": [
    "# 统计二维数组所有数的平均数，求和\n",
    "import numpy as np\n",
    "res_1 = np.random.randn(2,2)\n",
    "print(res_1)\n",
    "print('*' * 50)\n",
    "\n",
    "print(np.mean(res_1)) #平均值\n",
    "print(np.sum(res_1))  #求和"
   ]
  },
  {
   "cell_type": "code",
   "execution_count": 3,
   "metadata": {},
   "outputs": [
    {
     "name": "stdout",
     "output_type": "stream",
     "text": [
      "[[-1.08943567 -1.15580095]\n",
      " [ 0.79731509  0.12364742]\n",
      " [-1.59197288 -1.78579829]]\n",
      "**************************************************\n",
      "[-1.88409345 -2.81795182]\n",
      "**************************************************\n",
      "[-2.24523662  0.92096252 -3.37777117]\n"
     ]
    }
   ],
   "source": [
    "# 也可对某行或某列的数据统计\n",
    "\n",
    "# 方法是在函数中添加一个axis参数，0表示每列，1表示每行\n",
    "\n",
    "res_1 = np.random.randn(3,2)\n",
    "print(res_1)\n",
    "print('*' * 50)\n",
    "\n",
    "print(np.sum(res_1, axis= 0))  #每列求和\n",
    "print('*' * 50)\n",
    "\n",
    "print(np.sum(res_1, axis= 1)) #每行平均值"
   ]
  },
  {
   "cell_type": "code",
   "execution_count": 4,
   "metadata": {},
   "outputs": [
    {
     "name": "stdout",
     "output_type": "stream",
     "text": [
      "[[8 9 1 3]\n",
      " [1 6 0 2]\n",
      " [0 4 5 6]]\n",
      "**************************************************\n",
      "[[1 3 8 9]\n",
      " [0 1 2 6]\n",
      " [0 4 5 6]]\n"
     ]
    }
   ],
   "source": [
    "# 排序\n",
    "\n",
    "# 使用函数sort\n",
    "\n",
    "# 注意：假设原始数组为arr，若使用np.sort(arr)会创建排好序的副本，不会影响原数组；若使用arr.sort()就地排序会修改原数组\n",
    "\n",
    "# 默认排序是在每行内排序\n",
    "\n",
    "res_1 = np.random.randint(0,10,(3,4))\n",
    "print(res_1)\n",
    "print('*' * 50)\n",
    "\n",
    "print(np.sort(res_1)) #每行排序"
   ]
  },
  {
   "cell_type": "code",
   "execution_count": 5,
   "metadata": {},
   "outputs": [
    {
     "name": "stdout",
     "output_type": "stream",
     "text": [
      "[[6 5 9 1]\n",
      " [8 0 7 9]\n",
      " [0 7 8 7]]\n",
      "**************************************************\n",
      "[[0 0 7 1]\n",
      " [6 5 8 7]\n",
      " [8 7 9 9]]\n"
     ]
    }
   ],
   "source": [
    "# 若要根据每行或每列排序，同样是使用axis参数，0表示每列，1表示每行\n",
    "\n",
    "res_1 = np.random.randint(0,10,(3,4))\n",
    "print(res_1)\n",
    "print('*' * 50)\n",
    "\n",
    "res_1.sort(axis= 0) #每列排序\n",
    "print(res_1)"
   ]
  },
  {
   "cell_type": "code",
   "execution_count": 6,
   "metadata": {},
   "outputs": [],
   "source": [
    "# 其他统计函数参考\n",
    "# http://note.youdao.com/noteshare?id=95aed84de9dac3a734db91d986081361&sub=F6C4D4A49299403F84262303545AA98D 中的基本数组统计方法"
   ]
  },
  {
   "cell_type": "markdown",
   "metadata": {},
   "source": [
    "## 线性代数"
   ]
  },
  {
   "cell_type": "code",
   "execution_count": 7,
   "metadata": {},
   "outputs": [
    {
     "name": "stdout",
     "output_type": "stream",
     "text": [
      "[[1 2]\n",
      " [3 4]]\n",
      "**************************************************\n",
      "[[5 6]\n",
      " [7 8]]\n",
      "**************************************************\n",
      "[[19 22]\n",
      " [43 50]]\n"
     ]
    }
   ],
   "source": [
    "# numpy中对线性代数也有很好的支持\n",
    "\n",
    "# 例如，计算矩阵点积使用dot()函数\n",
    "\n",
    "# 假设两个矩阵分别为x y\n",
    "\n",
    "# x.dot(y) 等效于 np.dot(x, y)\n",
    "\n",
    "res_1 = np.array([[1,2], [3,4]])\n",
    "print(res_1)\n",
    "print('*' * 50)\n",
    "\n",
    "res_2 = np.array([[5,6], [7,8]])\n",
    "print(res_2)\n",
    "print('*' * 50)\n",
    "\n",
    "print(np.dot(res_1, res_2))"
   ]
  },
  {
   "cell_type": "code",
   "execution_count": 8,
   "metadata": {},
   "outputs": [],
   "source": [
    "# 其他一些线性代数函数参考\n",
    "# http://note.youdao.com/noteshare?id=95aed84de9dac3a734db91d986081361&sub=F6C4D4A49299403F84262303545AA98D 中的常用的numpy.linalg函数"
   ]
  },
  {
   "cell_type": "code",
   "execution_count": null,
   "metadata": {},
   "outputs": [],
   "source": []
  }
 ],
 "metadata": {
  "kernelspec": {
   "display_name": "Python 3",
   "language": "python",
   "name": "python3"
  },
  "language_info": {
   "codemirror_mode": {
    "name": "ipython",
    "version": 3
   },
   "file_extension": ".py",
   "mimetype": "text/x-python",
   "name": "python",
   "nbconvert_exporter": "python",
   "pygments_lexer": "ipython3",
   "version": "3.7.3"
  }
 },
 "nbformat": 4,
 "nbformat_minor": 2
}
