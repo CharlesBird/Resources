{
 "cells": [
  {
   "cell_type": "code",
   "execution_count": 1,
   "metadata": {},
   "outputs": [
    {
     "data": {
      "text/plain": [
       "'\\n神经网络\\n卷积神经网络， 特殊处理\\n神经元\\n神经网络结构\\n正向传播，给一个数据，从这个数据中计算出它的预测值\\n反向传播，求解参数，是梯度下降算法在神经网络上的一个具体计算过程\\n神经网络训练优化\\n权重w  特征  激活函数 偏置b\\n多层神经元 -> 神经网络\\n'"
      ]
     },
     "execution_count": 1,
     "metadata": {},
     "output_type": "execute_result"
    }
   ],
   "source": [
    "\"\"\"\n",
    "神经网络\n",
    "卷积神经网络， 特殊处理\n",
    "神经元\n",
    "神经网络结构\n",
    "正向传播，给一个数据，从这个数据中计算出它的预测值\n",
    "反向传播，求解参数，是梯度下降算法在神经网络上的一个具体计算过程\n",
    "神经网络训练优化\n",
    "权重w  特征  激活函数 偏置b\n",
    "多层神经元 -> 神经网络\n",
    "\"\"\""
   ]
  },
  {
   "cell_type": "code",
   "execution_count": 2,
   "metadata": {},
   "outputs": [],
   "source": [
    "# 神经网络训练优化\n",
    "# 每次都在整个数据集上计算Loss和梯度\n",
    "# - 计算量大\n",
    "# - 可能内存承载不住\n",
    "# 随即梯度下降\n",
    "#  - 每次只使用一个样本\n",
    "# 收敛\n",
    "# Mini-Batch 梯度下降\n",
    "# - 每次使用小部分数据进行训练\n",
    "# 一个样本的情况下 梯度下降存在震荡的问题\n",
    "# 存在局部极值和 saddle point 的问题\n",
    "# 动量梯度下降 SGD\n",
    "# - 开始训练时，积累动量，加速训练\n",
    "# - 局部极值附近震荡时，梯度为0，由于动量，跳出陷阱\n",
    "# - 梯度改变方向的时候，动量缓解动荡"
   ]
  }
 ],
 "metadata": {
  "kernelspec": {
   "display_name": "Python 3",
   "language": "python",
   "name": "python3"
  },
  "language_info": {
   "codemirror_mode": {
    "name": "ipython",
    "version": 3
   },
   "file_extension": ".py",
   "mimetype": "text/x-python",
   "name": "python",
   "nbconvert_exporter": "python",
   "pygments_lexer": "ipython3",
   "version": "3.7.3"
  }
 },
 "nbformat": 4,
 "nbformat_minor": 2
}
