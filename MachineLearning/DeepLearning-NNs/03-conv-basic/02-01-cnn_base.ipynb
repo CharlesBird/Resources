{
 "cells": [
  {
   "cell_type": "code",
   "execution_count": 1,
   "metadata": {},
   "outputs": [
    {
     "data": {
      "text/plain": [
       "'\\n神经网络\\n卷积神经网络， 特殊处理\\n神经元\\n神经网络结构\\n正向传播，给一个数据，从这个数据中计算出它的预测值\\n反向传播，求解参数，是梯度下降算法在神经网络上的一个具体计算过程\\n神经网络训练优化\\n权重w  特征  激活函数 偏置b\\n多层神经元 -> 神经网络\\n'"
      ]
     },
     "execution_count": 1,
     "metadata": {},
     "output_type": "execute_result"
    }
   ],
   "source": [
    "\"\"\"\n",
    "神经网络\n",
    "卷积神经网络， 特殊处理\n",
    "神经元\n",
    "神经网络结构\n",
    "正向传播，给一个数据，从这个数据中计算出它的预测值\n",
    "反向传播，求解参数，是梯度下降算法在神经网络上的一个具体计算过程\n",
    "神经网络训练优化\n",
    "权重w  特征  激活函数 偏置b\n",
    "多层神经元 -> 神经网络\n",
    "\"\"\""
   ]
  },
  {
   "cell_type": "code",
   "execution_count": 3,
   "metadata": {},
   "outputs": [],
   "source": [
    "# 神经网络训练优化\n",
    "# 每次都在整个数据集上计算Loss和梯度\n",
    "# - 计算量大\n",
    "# - 可能内存承载不住\n",
    "# 随即梯度下降\n",
    "#  - 每次只使用一个样本\n",
    "# 收敛\n",
    "# Mini-Batch 梯度下降\n",
    "# - 每次使用小部分数据进行训练\n",
    "# 一个样本的情况下 梯度下降存在震荡的问题\n",
    "# 存在局部极值和 saddle point 的问题\n",
    "# 动量梯度下降 SGD\n",
    "# - 开始训练时，积累动量，加速训练\n",
    "# - 局部极值附近震荡时，梯度为0，由于动量，跳出陷阱\n",
    "# - 梯度改变方向的时候，动量缓解动荡"
   ]
  },
  {
   "cell_type": "code",
   "execution_count": 4,
   "metadata": {},
   "outputs": [],
   "source": [
    "# 问题引入\n",
    "# 卷积\n",
    "# 激活函数\n",
    "# 池化\n",
    "# 全连接\n",
    "# 卷积神经网络结构"
   ]
  },
  {
   "cell_type": "code",
   "execution_count": 5,
   "metadata": {},
   "outputs": [],
   "source": [
    "# 神经网络遇到的问题\n",
    "# - 参数过多，容易过拟合，需要更多训练数据，收敛到较差的局部极值\n",
    "# 卷积\n",
    "# - 某个像素点与周围的像素点关系比较大，对于图像的特征有明显的区域性，全连接变成局部连接\n",
    "# - 局部连接\n",
    "# - 参数共享，强制局部连接 使用同样的参数，图像特征与位置无关\n",
    "# 卷积核\n",
    "# 卷积操作，输出size = 输入size-卷积核size+1\n",
    "# 内积\n",
    "# 步长\n",
    "# 卷积 输入和输出size一样，使用padding 使输出size不变\n",
    "# 卷积 - 多通道\n",
    "# 卷积- 多个卷积核\n",
    "# 卷积层，输入三通道，输出192通道，卷积核大小时3*3，问该卷积层有多少参数？\n",
    "# - (3 * (3*3) )* 192  = 5148\n",
    "# 激活函数\n",
    "# - Sigmoid，tanh，ReLU(常用)，Leaky ReLU，Maxout，ELU\n",
    "# - 性质： 单调性，非线性函数\n",
    "# 卷积- Summary\n",
    "# - P = 边距\n",
    "# - S = 步长\n",
    "# - 输出尺寸 = (n - p) / s + 1\n",
    "# - 参数数目 = kw * kh * Ci * Co， Ci: 输入通道数  Co: 输出通道数  Kw,Kh: 卷积核长度"
   ]
  },
  {
   "cell_type": "code",
   "execution_count": 6,
   "metadata": {},
   "outputs": [],
   "source": [
    "# 池化 - 最大值池化\n",
    "# 池化 - 平均值池化\n",
    "# 常使用不重叠，不补零\n",
    "# 没有用于求导的参数\n",
    "# 池化层参数为步长和池化核大小\n",
    "# 用于减少图像尺寸，从而减少计算量\n",
    "# 一定程度解决平移鲁棒\n",
    "# 损失了空间位置精度"
   ]
  },
  {
   "cell_type": "code",
   "execution_count": 7,
   "metadata": {},
   "outputs": [],
   "source": [
    "# 全连接层\n",
    "# 将上一层输出展开并连接到每一个神经元上\n",
    "# 即普通神经网络的层\n",
    "# 相比卷积层，参数数目较大"
   ]
  },
  {
   "cell_type": "code",
   "execution_count": 8,
   "metadata": {},
   "outputs": [],
   "source": [
    "# 卷积神经网络=卷积层+池化层+全连接层"
   ]
  },
  {
   "cell_type": "code",
   "execution_count": null,
   "metadata": {},
   "outputs": [],
   "source": []
  }
 ],
 "metadata": {
  "kernelspec": {
   "display_name": "Python 3",
   "language": "python",
   "name": "python3"
  },
  "language_info": {
   "codemirror_mode": {
    "name": "ipython",
    "version": 3
   },
   "file_extension": ".py",
   "mimetype": "text/x-python",
   "name": "python",
   "nbconvert_exporter": "python",
   "pygments_lexer": "ipython3",
   "version": "3.7.3"
  }
 },
 "nbformat": 4,
 "nbformat_minor": 2
}
