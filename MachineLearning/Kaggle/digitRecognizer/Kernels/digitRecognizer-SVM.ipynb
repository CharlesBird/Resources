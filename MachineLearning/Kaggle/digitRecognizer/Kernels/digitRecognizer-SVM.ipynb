{
 "cells": [
  {
   "cell_type": "code",
   "execution_count": 1,
   "metadata": {},
   "outputs": [
    {
     "name": "stdout",
     "output_type": "stream",
     "text": [
      "['.ipynb_checkpoints', 'digit-recognizer.zip', 'digitRecognizer.ipynb', 'programs', 'sample_submission.csv', 'test.csv', 'train.csv']\n"
     ]
    }
   ],
   "source": [
    "import numpy as np # linear algebra\n",
    "import pandas as pd # data processing, CSV file I/O (e.g. pd.read_csv)\n",
    "import os\n",
    "from sklearn.model_selection import train_test_split\n",
    "import matplotlib.pyplot as plt, matplotlib.image as mpimg\n",
    "import time \n",
    "import warnings\n",
    "from sklearn import svm\n",
    "from sklearn.model_selection import GridSearchCV\n",
    "\n",
    "%matplotlib inline\n",
    "warnings.filterwarnings('ignore')\n",
    "\n",
    "print(os.listdir(\"../digitRecognizer\"))"
   ]
  },
  {
   "cell_type": "code",
   "execution_count": 2,
   "metadata": {},
   "outputs": [
    {
     "name": "stdout",
     "output_type": "stream",
     "text": [
      "Train Data Shape is:  (42000, 785)\n"
     ]
    },
    {
     "data": {
      "text/html": [
       "<div>\n",
       "<style scoped>\n",
       "    .dataframe tbody tr th:only-of-type {\n",
       "        vertical-align: middle;\n",
       "    }\n",
       "\n",
       "    .dataframe tbody tr th {\n",
       "        vertical-align: top;\n",
       "    }\n",
       "\n",
       "    .dataframe thead th {\n",
       "        text-align: right;\n",
       "    }\n",
       "</style>\n",
       "<table border=\"1\" class=\"dataframe\">\n",
       "  <thead>\n",
       "    <tr style=\"text-align: right;\">\n",
       "      <th></th>\n",
       "      <th>label</th>\n",
       "      <th>pixel0</th>\n",
       "      <th>pixel1</th>\n",
       "      <th>pixel2</th>\n",
       "      <th>pixel3</th>\n",
       "      <th>pixel4</th>\n",
       "      <th>pixel5</th>\n",
       "      <th>pixel6</th>\n",
       "      <th>pixel7</th>\n",
       "      <th>pixel8</th>\n",
       "      <th>...</th>\n",
       "      <th>pixel774</th>\n",
       "      <th>pixel775</th>\n",
       "      <th>pixel776</th>\n",
       "      <th>pixel777</th>\n",
       "      <th>pixel778</th>\n",
       "      <th>pixel779</th>\n",
       "      <th>pixel780</th>\n",
       "      <th>pixel781</th>\n",
       "      <th>pixel782</th>\n",
       "      <th>pixel783</th>\n",
       "    </tr>\n",
       "  </thead>\n",
       "  <tbody>\n",
       "    <tr>\n",
       "      <th>0</th>\n",
       "      <td>1</td>\n",
       "      <td>0</td>\n",
       "      <td>0</td>\n",
       "      <td>0</td>\n",
       "      <td>0</td>\n",
       "      <td>0</td>\n",
       "      <td>0</td>\n",
       "      <td>0</td>\n",
       "      <td>0</td>\n",
       "      <td>0</td>\n",
       "      <td>...</td>\n",
       "      <td>0</td>\n",
       "      <td>0</td>\n",
       "      <td>0</td>\n",
       "      <td>0</td>\n",
       "      <td>0</td>\n",
       "      <td>0</td>\n",
       "      <td>0</td>\n",
       "      <td>0</td>\n",
       "      <td>0</td>\n",
       "      <td>0</td>\n",
       "    </tr>\n",
       "    <tr>\n",
       "      <th>1</th>\n",
       "      <td>0</td>\n",
       "      <td>0</td>\n",
       "      <td>0</td>\n",
       "      <td>0</td>\n",
       "      <td>0</td>\n",
       "      <td>0</td>\n",
       "      <td>0</td>\n",
       "      <td>0</td>\n",
       "      <td>0</td>\n",
       "      <td>0</td>\n",
       "      <td>...</td>\n",
       "      <td>0</td>\n",
       "      <td>0</td>\n",
       "      <td>0</td>\n",
       "      <td>0</td>\n",
       "      <td>0</td>\n",
       "      <td>0</td>\n",
       "      <td>0</td>\n",
       "      <td>0</td>\n",
       "      <td>0</td>\n",
       "      <td>0</td>\n",
       "    </tr>\n",
       "    <tr>\n",
       "      <th>2</th>\n",
       "      <td>1</td>\n",
       "      <td>0</td>\n",
       "      <td>0</td>\n",
       "      <td>0</td>\n",
       "      <td>0</td>\n",
       "      <td>0</td>\n",
       "      <td>0</td>\n",
       "      <td>0</td>\n",
       "      <td>0</td>\n",
       "      <td>0</td>\n",
       "      <td>...</td>\n",
       "      <td>0</td>\n",
       "      <td>0</td>\n",
       "      <td>0</td>\n",
       "      <td>0</td>\n",
       "      <td>0</td>\n",
       "      <td>0</td>\n",
       "      <td>0</td>\n",
       "      <td>0</td>\n",
       "      <td>0</td>\n",
       "      <td>0</td>\n",
       "    </tr>\n",
       "    <tr>\n",
       "      <th>3</th>\n",
       "      <td>4</td>\n",
       "      <td>0</td>\n",
       "      <td>0</td>\n",
       "      <td>0</td>\n",
       "      <td>0</td>\n",
       "      <td>0</td>\n",
       "      <td>0</td>\n",
       "      <td>0</td>\n",
       "      <td>0</td>\n",
       "      <td>0</td>\n",
       "      <td>...</td>\n",
       "      <td>0</td>\n",
       "      <td>0</td>\n",
       "      <td>0</td>\n",
       "      <td>0</td>\n",
       "      <td>0</td>\n",
       "      <td>0</td>\n",
       "      <td>0</td>\n",
       "      <td>0</td>\n",
       "      <td>0</td>\n",
       "      <td>0</td>\n",
       "    </tr>\n",
       "    <tr>\n",
       "      <th>4</th>\n",
       "      <td>0</td>\n",
       "      <td>0</td>\n",
       "      <td>0</td>\n",
       "      <td>0</td>\n",
       "      <td>0</td>\n",
       "      <td>0</td>\n",
       "      <td>0</td>\n",
       "      <td>0</td>\n",
       "      <td>0</td>\n",
       "      <td>0</td>\n",
       "      <td>...</td>\n",
       "      <td>0</td>\n",
       "      <td>0</td>\n",
       "      <td>0</td>\n",
       "      <td>0</td>\n",
       "      <td>0</td>\n",
       "      <td>0</td>\n",
       "      <td>0</td>\n",
       "      <td>0</td>\n",
       "      <td>0</td>\n",
       "      <td>0</td>\n",
       "    </tr>\n",
       "  </tbody>\n",
       "</table>\n",
       "<p>5 rows × 785 columns</p>\n",
       "</div>"
      ],
      "text/plain": [
       "   label  pixel0  pixel1  pixel2  pixel3  pixel4  pixel5  pixel6  pixel7  \\\n",
       "0      1       0       0       0       0       0       0       0       0   \n",
       "1      0       0       0       0       0       0       0       0       0   \n",
       "2      1       0       0       0       0       0       0       0       0   \n",
       "3      4       0       0       0       0       0       0       0       0   \n",
       "4      0       0       0       0       0       0       0       0       0   \n",
       "\n",
       "   pixel8  ...  pixel774  pixel775  pixel776  pixel777  pixel778  pixel779  \\\n",
       "0       0  ...         0         0         0         0         0         0   \n",
       "1       0  ...         0         0         0         0         0         0   \n",
       "2       0  ...         0         0         0         0         0         0   \n",
       "3       0  ...         0         0         0         0         0         0   \n",
       "4       0  ...         0         0         0         0         0         0   \n",
       "\n",
       "   pixel780  pixel781  pixel782  pixel783  \n",
       "0         0         0         0         0  \n",
       "1         0         0         0         0  \n",
       "2         0         0         0         0  \n",
       "3         0         0         0         0  \n",
       "4         0         0         0         0  \n",
       "\n",
       "[5 rows x 785 columns]"
      ]
     },
     "execution_count": 2,
     "metadata": {},
     "output_type": "execute_result"
    }
   ],
   "source": [
    "data = pd.read_csv('../digitRecognizer/train.csv')\n",
    "print(\"Train Data Shape is: \",data.shape)\n",
    "data.head()"
   ]
  },
  {
   "cell_type": "code",
   "execution_count": 3,
   "metadata": {},
   "outputs": [
    {
     "name": "stdout",
     "output_type": "stream",
     "text": [
      "Data Shape:  (42000, 784)\n",
      "Label Shape:  (42000,)\n"
     ]
    }
   ],
   "source": [
    "label = data.label\n",
    "data=data.drop('label',axis=1)\n",
    "print(\"Data Shape: \",data.shape)\n",
    "print(\"Label Shape: \",label.shape)"
   ]
  },
  {
   "cell_type": "code",
   "execution_count": 4,
   "metadata": {},
   "outputs": [
    {
     "data": {
      "text/plain": [
       "Index(['pixel0', 'pixel1', 'pixel2', 'pixel3', 'pixel4', 'pixel5', 'pixel6',\n",
       "       'pixel7', 'pixel8', 'pixel9',\n",
       "       ...\n",
       "       'pixel774', 'pixel775', 'pixel776', 'pixel777', 'pixel778', 'pixel779',\n",
       "       'pixel780', 'pixel781', 'pixel782', 'pixel783'],\n",
       "      dtype='object', length=784)"
      ]
     },
     "execution_count": 4,
     "metadata": {},
     "output_type": "execute_result"
    }
   ],
   "source": [
    "data.columns"
   ]
  },
  {
   "cell_type": "code",
   "execution_count": 5,
   "metadata": {},
   "outputs": [
    {
     "data": {
      "image/png": "[encoded data removed]",
      "text/plain": [
       "<Figure size 1800x1800 with 4 Axes>"
      ]
     },
     "metadata": {
      "needs_background": "light"
     },
     "output_type": "display_data"
    },
    {
     "data": {
      "image/png": "[encoded data removed]",
      "text/plain": [
       "<Figure size 1800x1800 with 4 Axes>"
      ]
     },
     "metadata": {
      "needs_background": "light"
     },
     "output_type": "display_data"
    },
    {
     "data": {
      "image/png": "[encoded data removed]",
      "text/plain": [
       "<Figure size 1800x1800 with 4 Axes>"
      ]
     },
     "metadata": {
      "needs_background": "light"
     },
     "output_type": "display_data"
    },
    {
     "data": {
      "image/png": "[encoded data removed]",
      "text/plain": [
       "<Figure size 1800x1800 with 4 Axes>"
      ]
     },
     "metadata": {
      "needs_background": "light"
     },
     "output_type": "display_data"
    }
   ],
   "source": [
    "for x in range(0,4):\n",
    "    train_0=data[label==x]\n",
    "    data_new=[]\n",
    "    for idx in train_0.index:\n",
    "        val=train_0.loc[idx].values.reshape(28,28)\n",
    "        data_new.append(val)\n",
    "    plt.figure(figsize=(25,25))   \n",
    "    for x in range(1,5):\n",
    "        ax1=plt.subplot(1, 20, x)\n",
    "        ax1.imshow(data_new[x],cmap='gray')"
   ]
  },
  {
   "cell_type": "code",
   "execution_count": 6,
   "metadata": {},
   "outputs": [
    {
     "data": {
      "text/plain": [
       "Text(0, 0.5, 'Frequency')"
      ]
     },
     "execution_count": 6,
     "metadata": {},
     "output_type": "execute_result"
    },
    {
     "data": {
      "image/png": "[encoded data removed]",
      "text/plain": [
       "<Figure size 1440x576 with 2 Axes>"
      ]
     },
     "metadata": {
      "needs_background": "light"
     },
     "output_type": "display_data"
    }
   ],
   "source": [
    "y = pd.value_counts(data.values.ravel()).sort_index()\n",
    "N = len(y)\n",
    "x = range(N)\n",
    "width =0.9\n",
    "plt.figure(figsize=[20,8])\n",
    "ax1=plt.subplot(1, 2,1)\n",
    "ax1.bar(x, y, width, color=\"blue\")\n",
    "plt.title('Pixel Value Frequency For Gray Scale Images')\n",
    "plt.xlabel('Pixel Value (0-255)')\n",
    "plt.ylabel('Frequency')\n",
    "#ax1.imshow(data_new[x],cmap='gray')\n",
    "ax2=plt.subplot(1, 2,2)\n",
    "ax2.bar(x, y, width, color=\"blue\")\n",
    "plt.title('Pixel Value Frequency (Log Scale)')\n",
    "plt.yscale('log')\n",
    "plt.xlabel('Pixel Value (0-255)')\n",
    "plt.ylabel('Frequency')\n",
    "#plt.yscale('')"
   ]
  },
  {
   "cell_type": "code",
   "execution_count": 7,
   "metadata": {},
   "outputs": [
    {
     "name": "stdout",
     "output_type": "stream",
     "text": [
      "Train Data Shape:  (33600, 784)\n",
      "Train Label Shape:  (33600,)\n",
      "Test Data Shape:  (8400, 784)\n",
      "Test Label Shape:  (8400,)\n"
     ]
    }
   ],
   "source": [
    "train, test,train_labels, test_labels = train_test_split(data, label, train_size=0.8, random_state=42)\n",
    "print(\"Train Data Shape: \",train.shape)\n",
    "print(\"Train Label Shape: \",train_labels.shape)\n",
    "print(\"Test Data Shape: \",test.shape)\n",
    "print(\"Test Label Shape: \",test_labels.shape)"
   ]
  },
  {
   "cell_type": "code",
   "execution_count": 8,
   "metadata": {},
   "outputs": [],
   "source": [
    "i=5000;\n",
    "score=[]\n",
    "fittime=[]\n",
    "scoretime=[]\n",
    "clf = svm.SVC(random_state=42)"
   ]
  },
  {
   "cell_type": "code",
   "execution_count": 9,
   "metadata": {},
   "outputs": [
    {
     "name": "stdout",
     "output_type": "stream",
     "text": [
      "Default Parameters are: \n",
      " <bound method BaseEstimator.get_params of SVC(C=1.0, cache_size=200, class_weight=None, coef0=0.0,\n",
      "  decision_function_shape='ovr', degree=3, gamma='auto_deprecated',\n",
      "  kernel='rbf', max_iter=-1, probability=False, random_state=42,\n",
      "  shrinking=True, tol=0.001, verbose=False)>\n"
     ]
    }
   ],
   "source": [
    "print(\"Default Parameters are: \\n\",clf.get_params)"
   ]
  },
  {
   "cell_type": "code",
   "execution_count": 10,
   "metadata": {},
   "outputs": [
    {
     "name": "stdout",
     "output_type": "stream",
     "text": [
      "Time consumed to fit model:  00:00:43\n",
      "Accuracy for grayscale:  0.09345238095238095\n",
      "Time consumed to score:  00:00:37\n"
     ]
    }
   ],
   "source": [
    "start_time = time.time()\n",
    "clf.fit(train[:i], train_labels[:i].values.ravel())\n",
    "fittime = time.time() - start_time\n",
    "print(\"Time consumed to fit model: \",time.strftime(\"%H:%M:%S\", time.gmtime(fittime)))\n",
    "start_time = time.time()\n",
    "score=clf.score(test,test_labels)\n",
    "print(\"Accuracy for grayscale: \",score)\n",
    "scoretime = time.time() - start_time\n",
    "print(\"Time consumed to score: \",time.strftime(\"%H:%M:%S\", time.gmtime(scoretime)))\n",
    "case1=[score,fittime,scoretime]"
   ]
  },
  {
   "cell_type": "code",
   "execution_count": 11,
   "metadata": {},
   "outputs": [
    {
     "data": {
      "image/png": "[encoded data removed]",
      "text/plain": [
       "<Figure size 1800x1800 with 4 Axes>"
      ]
     },
     "metadata": {
      "needs_background": "light"
     },
     "output_type": "display_data"
    },
    {
     "data": {
      "image/png": "[encoded data removed]",
      "text/plain": [
       "<Figure size 1800x1800 with 4 Axes>"
      ]
     },
     "metadata": {
      "needs_background": "light"
     },
     "output_type": "display_data"
    },
    {
     "data": {
      "image/png": "[encoded data removed]",
      "text/plain": [
       "<Figure size 1800x1800 with 4 Axes>"
      ]
     },
     "metadata": {
      "needs_background": "light"
     },
     "output_type": "display_data"
    },
    {
     "data": {
      "image/png": "[encoded data removed]",
      "text/plain": [
       "<Figure size 1800x1800 with 4 Axes>"
      ]
     },
     "metadata": {
      "needs_background": "light"
     },
     "output_type": "display_data"
    }
   ],
   "source": [
    "test_b=test\n",
    "train_b=train\n",
    "test_b[test_b>0]=1\n",
    "train_b[train_b>0]=1\n",
    "for x in range(0,4):\n",
    "    train_0=train_b[train_labels==x]\n",
    "    data_new=[]\n",
    "    for idx in train_0.index:\n",
    "        val=train_0.loc[idx].values.reshape(28,28)\n",
    "        data_new.append(val)\n",
    "    plt.figure(figsize=(25,25))   \n",
    "    for x in range(1,5):\n",
    "        ax1=plt.subplot(1, 20, x)\n",
    "        ax1.imshow(data_new[x],cmap='binary')"
   ]
  },
  {
   "cell_type": "code",
   "execution_count": 12,
   "metadata": {},
   "outputs": [
    {
     "name": "stdout",
     "output_type": "stream",
     "text": [
      "Time consumed to fit model:  00:00:43\n",
      "Accuracy for binary:  0.9111904761904762\n",
      "Time consumed to score:  00:00:09\n"
     ]
    }
   ],
   "source": [
    "start_time = time.time()\n",
    "clf.fit(train_b[:i], train_labels[:i].values.ravel())\n",
    "fititme = time.time() - start_time\n",
    "print(\"Time consumed to fit model: \",time.strftime(\"%H:%M:%S\", time.gmtime(fittime)))\n",
    "score=clf.score(test_b,test_labels)\n",
    "start_time = time.time()\n",
    "clf.fit(train_b[:i], train_labels[:i].values.ravel())\n",
    "print(\"Accuracy for binary: \",score)\n",
    "scoretime = time.time() - start_time\n",
    "print(\"Time consumed to score: \",time.strftime(\"%H:%M:%S\", time.gmtime(scoretime)))\n",
    "case2=[score,fittime,scoretime]"
   ]
  },
  {
   "cell_type": "code",
   "execution_count": 13,
   "metadata": {},
   "outputs": [
    {
     "data": {
      "text/plain": [
       "Text(0, 0.5, 'Variance')"
      ]
     },
     "execution_count": 13,
     "metadata": {},
     "output_type": "execute_result"
    },
    {
     "data": {
      "image/png": "[encoded data removed]",
      "text/plain": [
       "<Figure size 2160x720 with 1 Axes>"
      ]
     },
     "metadata": {
      "needs_background": "light"
     },
     "output_type": "display_data"
    }
   ],
   "source": [
    "from sklearn.preprocessing import StandardScaler\n",
    "from sklearn.decomposition import PCA as sklearnPCA\n",
    "\n",
    "#standardized data\n",
    "sc = StandardScaler().fit(train)\n",
    "X_std_train = sc.transform(train)\n",
    "X_std_test = sc.transform(test)\n",
    "\n",
    "#If n_components is not set then all components are stored \n",
    "sklearn_pca = sklearnPCA().fit(X_std_train)\n",
    "train_pca = sklearn_pca.transform(X_std_train)\n",
    "test_pca = sklearn_pca.transform(X_std_test)\n",
    "\n",
    "#Percentage of variance explained by each of the selected components.\n",
    "#If n_components is not set then all components are stored and the sum of the ratios is equal to 1.0.\n",
    "var_per = sklearn_pca.explained_variance_ratio_\n",
    "cum_var_per = sklearn_pca.explained_variance_ratio_.cumsum()\n",
    "\n",
    "plt.figure(figsize=(30,10))\n",
    "ind = np.arange(len(var_per)) \n",
    "plt.bar(ind,var_per)\n",
    "plt.xlabel('n_components')\n",
    "plt.ylabel('Variance')"
   ]
  },
  {
   "cell_type": "code",
   "execution_count": 14,
   "metadata": {},
   "outputs": [
    {
     "name": "stdout",
     "output_type": "stream",
     "text": [
      "Keeping 90% Info with  288  components\n",
      "Shape before PCA for Train:  (33600, 784)\n",
      "Shape after PCA for Train:  (33600, 288)\n",
      "Shape before PCA for Test:  (8400, 784)\n",
      "Shape after PCA for Test:  (8400, 288)\n"
     ]
    }
   ],
   "source": [
    "n_comp=len(cum_var_per[cum_var_per <= 0.90])\n",
    "print(\"Keeping 90% Info with \",n_comp,\" components\")\n",
    "sklearn_pca = sklearnPCA(n_components=n_comp)\n",
    "train_pca = sklearn_pca.fit_transform(X_std_train)\n",
    "test_pca = sklearn_pca.transform(X_std_test)\n",
    "print(\"Shape before PCA for Train: \",X_std_train.shape)\n",
    "print(\"Shape after PCA for Train: \",train_pca.shape)\n",
    "print(\"Shape before PCA for Test: \",X_std_test.shape)\n",
    "print(\"Shape after PCA for Test: \",test_pca.shape)"
   ]
  },
  {
   "cell_type": "code",
   "execution_count": 15,
   "metadata": {},
   "outputs": [
    {
     "name": "stdout",
     "output_type": "stream",
     "text": [
      "Time consumed to fit model:  00:00:05\n",
      "Accuracy for grayscale:  0.9196428571428571\n",
      "Time consumed to score model:  00:00:07\n"
     ]
    }
   ],
   "source": [
    "start_time = time.time()\n",
    "clf.fit(train_pca[:i], train_labels[:i].values.ravel())\n",
    "fittime = time.time() - start_time\n",
    "print(\"Time consumed to fit model: \",time.strftime(\"%H:%M:%S\", time.gmtime(fittime)))\n",
    "start_time = time.time()\n",
    "score=clf.score(test_pca,test_labels)\n",
    "print(\"Accuracy for grayscale: \",score)\n",
    "scoretime = time.time() - start_time\n",
    "print(\"Time consumed to score model: \",time.strftime(\"%H:%M:%S\", time.gmtime(scoretime)))\n",
    "case3=[score,fittime,scoretime]"
   ]
  },
  {
   "cell_type": "code",
   "execution_count": 16,
   "metadata": {},
   "outputs": [
    {
     "data": {
      "text/plain": [
       "Text(0, 0.5, 'Variance')"
      ]
     },
     "execution_count": 16,
     "metadata": {},
     "output_type": "execute_result"
    },
    {
     "data": {
      "image/png": "[encoded data removed]",
      "text/plain": [
       "<Figure size 2160x720 with 1 Axes>"
      ]
     },
     "metadata": {
      "needs_background": "light"
     },
     "output_type": "display_data"
    }
   ],
   "source": [
    "from sklearn.preprocessing import StandardScaler\n",
    "from sklearn.decomposition import PCA as sklearnPCA\n",
    "\n",
    "#standardized data\n",
    "sc = StandardScaler().fit(train_b)\n",
    "X_std_train = sc.transform(train_b)\n",
    "X_std_test = sc.transform(test_b)\n",
    "\n",
    "#If n_components is not set then all components are stored \n",
    "sklearn_pca = sklearnPCA().fit(X_std_train)\n",
    "#train_pca_b = sklearn_pca.transform(X_std_train)\n",
    "#test_pca_b = sklearn_pca.transform(X_std_test)\n",
    "\n",
    "#Percentage of variance explained by each of the selected components.\n",
    "#If n_components is not set then all components are stored and the sum of the ratios is equal to 1.0.\n",
    "var_per = sklearn_pca.explained_variance_ratio_\n",
    "cum_var_per = sklearn_pca.explained_variance_ratio_.cumsum()\n",
    "\n",
    "plt.figure(figsize=(30,10))\n",
    "ind = np.arange(len(var_per)) \n",
    "plt.bar(ind,var_per)\n",
    "plt.xlabel('n_components')\n",
    "plt.ylabel('Variance')"
   ]
  },
  {
   "cell_type": "code",
   "execution_count": 17,
   "metadata": {},
   "outputs": [
    {
     "name": "stdout",
     "output_type": "stream",
     "text": [
      "Keeping 90% Info with  288  components\n",
      "Shape before PCA for Train:  (33600, 784)\n",
      "Shape after PCA for Train:  (33600, 288)\n",
      "Shape before PCA for Test:  (8400, 784)\n",
      "Shape after PCA for Test:  (8400, 288)\n"
     ]
    }
   ],
   "source": [
    "n_comp=len(cum_var_per[cum_var_per <= 0.90])\n",
    "print(\"Keeping 90% Info with \",n_comp,\" components\")\n",
    "sklearn_pca = sklearnPCA(n_components=n_comp)\n",
    "train_pca_b = sklearn_pca.fit_transform(X_std_train)\n",
    "test_pca_b = sklearn_pca.transform(X_std_test)\n",
    "print(\"Shape before PCA for Train: \",X_std_train.shape)\n",
    "print(\"Shape after PCA for Train: \",train_pca_b.shape)\n",
    "print(\"Shape before PCA for Test: \",X_std_test.shape)\n",
    "print(\"Shape after PCA for Test: \",test_pca_b.shape)"
   ]
  },
  {
   "cell_type": "code",
   "execution_count": 18,
   "metadata": {},
   "outputs": [
    {
     "name": "stdout",
     "output_type": "stream",
     "text": [
      "Time consumed to fit model:  00:00:05\n",
      "Accuracy for grayscale:  0.9186904761904762\n",
      "Time consumed to score model:  00:00:07\n"
     ]
    }
   ],
   "source": [
    "start_time = time.time()\n",
    "clf.fit(train_pca_b[:i], train_labels[:i].values.ravel())\n",
    "fittime = time.time() - start_time\n",
    "print(\"Time consumed to fit model: \",time.strftime(\"%H:%M:%S\", time.gmtime(fittime)))\n",
    "start_time = time.time()\n",
    "score=clf.score(test_pca_b,test_labels)\n",
    "print(\"Accuracy for grayscale: \",score)\n",
    "scoretime = time.time() - start_time\n",
    "print(\"Time consumed to score model: \",time.strftime(\"%H:%M:%S\", time.gmtime(scoretime)))\n",
    "case4=[score,fittime,scoretime]"
   ]
  },
  {
   "cell_type": "code",
   "execution_count": 19,
   "metadata": {},
   "outputs": [
    {
     "name": "stdout",
     "output_type": "stream",
     "text": [
      "\t\t case1 \t\t\t case2 \t\t\t case3 \t\t\t case4\n",
      "Accuracy\t0.09345238095238095\t0.9111904761904762\t0.9196428571428571\t0.9186904761904762\n",
      "FittingTime\t43.66637444496155\t43.66637444496155\t5.507627487182617\t5.590875625610352\n",
      "ScoringTime\t37.943958044052124\t9.998165845870972\t7.891035318374634\t7.985548496246338\n"
     ]
    }
   ],
   "source": [
    "head =[\"Accuracy\",\"FittingTime\",\"ScoringTime\"]\n",
    "print(\"\\t\\t case1 \\t\\t\\t case2 \\t\\t\\t case3 \\t\\t\\t case4\")\n",
    "for h, c1, c2, c3, c4 in zip(head, case1, case2, case3, case4):\n",
    "    print(\"{}\\t{}\\t{}\\t{}\\t{}\".format(h, c1, c2, c3, c4))"
   ]
  },
  {
   "cell_type": "code",
   "execution_count": 20,
   "metadata": {},
   "outputs": [
    {
     "name": "stderr",
     "output_type": "stream",
     "text": [
      "100%|████████████████████████████████████████████████████████████████████████████████████| 6/6 [05:53<00:00, 75.29s/it]\n"
     ]
    }
   ],
   "source": [
    "from tqdm import tqdm\n",
    "\n",
    "fit_time=[]\n",
    "score=[]\n",
    "score_time=[]\n",
    "for j in tqdm(range(1000,31000,5000)):\n",
    "    start_time = time.time()\n",
    "    clf.fit(train_pca_b[:j], train_labels[:j].values.ravel())\n",
    "    fit_time.append(time.time() - start_time)\n",
    "    start_time = time.time()\n",
    "    score.append(clf.score(test_pca_b,test_labels))\n",
    "    score_time.append(time.time() - start_time)"
   ]
  },
  {
   "cell_type": "code",
   "execution_count": 21,
   "metadata": {},
   "outputs": [
    {
     "data": {
      "text/plain": [
       "<matplotlib.legend.Legend at 0x2445e935be0>"
      ]
     },
     "execution_count": 21,
     "metadata": {},
     "output_type": "execute_result"
    },
    {
     "data": {
      "image/png": "[encoded data removed]",
      "text/plain": [
       "<Figure size 1440x360 with 2 Axes>"
      ]
     },
     "metadata": {
      "needs_background": "light"
     },
     "output_type": "display_data"
    }
   ],
   "source": [
    "x=list(range(1000,31000,5000))\n",
    "plt.figure(figsize=[20,5]);\n",
    "ax1=plt.subplot(1, 2,1)\n",
    "ax1.plot(x,score,'-o');\n",
    "plt.xlabel('Number of Training Samples')\n",
    "plt.ylabel('Accuray')\n",
    "ax2=plt.subplot(1, 2,2)\n",
    "ax2.plot(x,score_time,'-o');\n",
    "ax2.plot(x,fit_time,'-o');\n",
    "plt.xlabel('Number of Training Samples')\n",
    "plt.ylabel('Time to Compute Score/Fit (sec)')\n",
    "plt.legend(['score_time','fitting_time'])"
   ]
  },
  {
   "cell_type": "code",
   "execution_count": 22,
   "metadata": {},
   "outputs": [
    {
     "data": {
      "text/plain": [
       "<bound method BaseEstimator.get_params of SVC(C=1.0, cache_size=200, class_weight=None, coef0=0.0,\n",
       "  decision_function_shape='ovr', degree=3, gamma='auto_deprecated',\n",
       "  kernel='rbf', max_iter=-1, probability=False, random_state=42,\n",
       "  shrinking=True, tol=0.001, verbose=False)>"
      ]
     },
     "execution_count": 22,
     "metadata": {},
     "output_type": "execute_result"
    }
   ],
   "source": [
    "clf.get_params"
   ]
  },
  {
   "cell_type": "code",
   "execution_count": 23,
   "metadata": {},
   "outputs": [],
   "source": [
    "parameters = {'gamma': [1, 0.1, 0.01, 0.001],\n",
    "             'C': [1000, 100, 10, 1]} \n",
    "\n",
    "p = GridSearchCV(clf , param_grid=parameters, cv=3)"
   ]
  },
  {
   "cell_type": "code",
   "execution_count": 24,
   "metadata": {},
   "outputs": [
    {
     "name": "stdout",
     "output_type": "stream",
     "text": [
      "Time consumed to fit model:  00:07:57\n"
     ]
    }
   ],
   "source": [
    "X=train_pca_b[:i]\n",
    "y=train_labels[:i].values.ravel()\n",
    "start_time = time.time()\n",
    "p.fit(X,y)\n",
    "elapsed_time = time.time() - start_time\n",
    "print(\"Time consumed to fit model: \",time.strftime(\"%H:%M:%S\", time.gmtime(elapsed_time)))"
   ]
  },
  {
   "cell_type": "code",
   "execution_count": 25,
   "metadata": {},
   "outputs": [
    {
     "name": "stdout",
     "output_type": "stream",
     "text": [
      "Scores for all Parameter Combination: \n",
      " [0.113  0.1818 0.7806 0.9282 0.113  0.1818 0.7806 0.9282 0.113  0.1818\n",
      " 0.7806 0.9318 0.1126 0.1762 0.7636 0.919 ]\n",
      "\n",
      "Optimal C and Gamma Combination:  {'C': 10, 'gamma': 0.001}\n",
      "\n",
      "Maximum Accuracy acheieved on LeftOut Data:  0.9318\n"
     ]
    }
   ],
   "source": [
    "print(\"Scores for all Parameter Combination: \\n\",p.cv_results_['mean_test_score'])\n",
    "print(\"\\nOptimal C and Gamma Combination: \",p.best_params_)\n",
    "print(\"\\nMaximum Accuracy acheieved on LeftOut Data: \",p.best_score_)"
   ]
  },
  {
   "cell_type": "code",
   "execution_count": 26,
   "metadata": {},
   "outputs": [],
   "source": [
    "C=p.best_params_['C']\n",
    "gamma=p.best_params_['gamma']\n",
    "clf=svm.SVC(C=C,gamma=gamma, random_state=42)"
   ]
  },
  {
   "cell_type": "code",
   "execution_count": 27,
   "metadata": {},
   "outputs": [
    {
     "name": "stdout",
     "output_type": "stream",
     "text": [
      "Time consumed to fit model:  00:00:02\n",
      "Accuracy for binary:  0.9366666666666666\n"
     ]
    }
   ],
   "source": [
    "start_time = time.time()\n",
    "clf.fit(train_pca_b[:i], train_labels[:i].values.ravel())\n",
    "elapsed_time = time.time() - start_time\n",
    "print(\"Time consumed to fit model: \",time.strftime(\"%H:%M:%S\", time.gmtime(elapsed_time)))\n",
    "print(\"Accuracy for binary: \",clf.score(test_pca_b,test_labels))"
   ]
  },
  {
   "cell_type": "code",
   "execution_count": 28,
   "metadata": {},
   "outputs": [
    {
     "name": "stdout",
     "output_type": "stream",
     "text": [
      "Time consumed to fit model:  00:01:07\n",
      "Accuracy for binary:  0.9677380952380953\n"
     ]
    }
   ],
   "source": [
    "start_time = time.time()\n",
    "clf.fit(train_pca_b, train_labels.values.ravel())\n",
    "elapsed_time = time.time() - start_time\n",
    "print(\"Time consumed to fit model: \",time.strftime(\"%H:%M:%S\", time.gmtime(elapsed_time)))\n",
    "print(\"Accuracy for binary: \",clf.score(test_pca_b,test_labels))"
   ]
  },
  {
   "cell_type": "code",
   "execution_count": 29,
   "metadata": {},
   "outputs": [],
   "source": [
    "train_data = data #read and label removed in initial steps\n",
    "train_label=label\n",
    "test_data = pd.read_csv('../digitRecognizer/test.csv')"
   ]
  },
  {
   "cell_type": "code",
   "execution_count": 30,
   "metadata": {},
   "outputs": [],
   "source": [
    "train_data[train_data>0]=1\n",
    "test_data[test_data>0]=1"
   ]
  },
  {
   "cell_type": "code",
   "execution_count": 31,
   "metadata": {},
   "outputs": [
    {
     "data": {
      "text/plain": [
       "Text(0, 0.5, 'Variance')"
      ]
     },
     "execution_count": 31,
     "metadata": {},
     "output_type": "execute_result"
    },
    {
     "data": {
      "image/png": "[encoded data removed]",
      "text/plain": [
       "<Figure size 2160x720 with 1 Axes>"
      ]
     },
     "metadata": {
      "needs_background": "light"
     },
     "output_type": "display_data"
    }
   ],
   "source": [
    "#standardize data\n",
    "sc = StandardScaler().fit(train_data)\n",
    "X_std_train = sc.transform(train_data)\n",
    "X_std_test = sc.transform(test_data)\n",
    "\n",
    "#If n_components is not set then all components are stored \n",
    "sklearn_pca = sklearnPCA().fit(X_std_train)\n",
    "\n",
    "#Percentage of variance explained by each of the selected components.\n",
    "#If n_components is not set then all components are stored and the sum of the ratios is equal to 1.0.\n",
    "var_per = sklearn_pca.explained_variance_ratio_\n",
    "cum_var_per = sklearn_pca.explained_variance_ratio_.cumsum()\n",
    "\n",
    "plt.figure(figsize=(30,10))\n",
    "ind = np.arange(len(var_per)) \n",
    "plt.bar(ind,var_per)\n",
    "plt.xlabel('n_components')\n",
    "plt.ylabel('Variance')"
   ]
  },
  {
   "cell_type": "code",
   "execution_count": 32,
   "metadata": {},
   "outputs": [
    {
     "name": "stdout",
     "output_type": "stream",
     "text": [
      "Keeping 90% Info with  293  components\n",
      "Shape before PCA for Train:  (42000, 784)\n",
      "Shape after PCA for Train:  (42000, 293)\n",
      "Shape before PCA for Test:  (28000, 784)\n",
      "Shape after PCA for Test:  (28000, 293)\n"
     ]
    }
   ],
   "source": [
    "n_comp=len(cum_var_per[cum_var_per <= 0.90])\n",
    "print(\"Keeping 90% Info with \",n_comp,\" components\")\n",
    "sklearn_pca = sklearnPCA(n_components=n_comp)\n",
    "train_pca_b = sklearn_pca.fit_transform(X_std_train)\n",
    "test_pca_b = sklearn_pca.transform(X_std_test)\n",
    "print(\"Shape before PCA for Train: \",X_std_train.shape)\n",
    "print(\"Shape after PCA for Train: \",train_pca_b.shape)\n",
    "print(\"Shape before PCA for Test: \",X_std_test.shape)\n",
    "print(\"Shape after PCA for Test: \",test_pca_b.shape)"
   ]
  },
  {
   "cell_type": "code",
   "execution_count": 33,
   "metadata": {},
   "outputs": [
    {
     "name": "stdout",
     "output_type": "stream",
     "text": [
      "Time consumed to fit model:  00:01:34\n"
     ]
    }
   ],
   "source": [
    "start_time = time.time()\n",
    "clf.fit(train_pca_b, label.values.ravel())\n",
    "fittime = time.time() - start_time\n",
    "print(\"Time consumed to fit model: \",time.strftime(\"%H:%M:%S\", time.gmtime(fittime)))"
   ]
  },
  {
   "cell_type": "code",
   "execution_count": 34,
   "metadata": {},
   "outputs": [
    {
     "name": "stdout",
     "output_type": "stream",
     "text": [
      "Accuracy for Binary(PCA):  [2 0 9 ... 3 9 2]\n",
      "Time consumed to predict:  00:01:25\n"
     ]
    }
   ],
   "source": [
    "start_time = time.time()\n",
    "result=clf.predict(test_pca_b)\n",
    "print(\"Accuracy for Binary(PCA): \",result)\n",
    "elapsed_time = time.time() - start_time\n",
    "print(\"Time consumed to predict: \",time.strftime(\"%H:%M:%S\", time.gmtime(elapsed_time)))"
   ]
  },
  {
   "cell_type": "code",
   "execution_count": 35,
   "metadata": {},
   "outputs": [],
   "source": [
    "data_to_submit = pd.DataFrame({\n",
    "    'ImageId':test_data.index.values+1,\n",
    "    'Label':result\n",
    "})\n",
    "data_to_submit.index=data_to_submit['ImageId'].values\n",
    "\n",
    "data_to_submit.to_csv('result.csv', index = False)"
   ]
  },
  {
   "cell_type": "code",
   "execution_count": null,
   "metadata": {},
   "outputs": [],
   "source": []
  }
 ],
 "metadata": {
  "kernelspec": {
   "display_name": "Python 3",
   "language": "python",
   "name": "python3"
  },
  "language_info": {
   "codemirror_mode": {
    "name": "ipython",
    "version": 3
   },
   "file_extension": ".py",
   "mimetype": "text/x-python",
   "name": "python",
   "nbconvert_exporter": "python",
   "pygments_lexer": "ipython3",
   "version": "3.7.3"
  }
 },
 "nbformat": 4,
 "nbformat_minor": 2
}
