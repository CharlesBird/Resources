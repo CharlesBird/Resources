{
 "cells": [
  {
   "cell_type": "markdown",
   "metadata": {},
   "source": [
    "# 数据归一化"
   ]
  },
  {
   "cell_type": "markdown",
   "metadata": {},
   "source": [
    "## 最值归一化"
   ]
  },
  {
   "cell_type": "code",
   "execution_count": 18,
   "metadata": {},
   "outputs": [],
   "source": [
    "import numpy as np\n",
    "x = np.random.randint(0, 100, size=100)"
   ]
  },
  {
   "cell_type": "code",
   "execution_count": 19,
   "metadata": {},
   "outputs": [
    {
     "data": {
      "text/plain": [
       "array([29, 90, 70, 34, 30, 46, 20, 44, 92, 62, 98, 35, 66,  4, 76, 21, 63,\n",
       "       20,  3, 44, 75, 17, 66, 20, 85,  0, 11, 99, 98, 74,  6, 88, 33, 10,\n",
       "       54, 67, 17, 66, 58, 45,  7,  9, 61, 88, 51, 11, 22, 85, 23, 67, 28,\n",
       "       70, 42, 80,  5, 15,  4, 82, 71, 49, 28, 31, 64, 37, 28, 19, 69,  4,\n",
       "       48, 98, 91, 66, 24,  4, 76, 59, 38, 23,  2, 17, 94,  6, 68, 91,  8,\n",
       "       10, 74, 22, 72, 15, 75, 20,  8, 87, 25, 56, 86, 61, 99, 18])"
      ]
     },
     "execution_count": 19,
     "metadata": {},
     "output_type": "execute_result"
    }
   ],
   "source": [
    "x"
   ]
  },
  {
   "cell_type": "code",
   "execution_count": 20,
   "metadata": {},
   "outputs": [
    {
     "data": {
      "text/plain": [
       "array([0.29292929, 0.90909091, 0.70707071, 0.34343434, 0.3030303 ,\n",
       "       0.46464646, 0.2020202 , 0.44444444, 0.92929293, 0.62626263,\n",
       "       0.98989899, 0.35353535, 0.66666667, 0.04040404, 0.76767677,\n",
       "       0.21212121, 0.63636364, 0.2020202 , 0.03030303, 0.44444444,\n",
       "       0.75757576, 0.17171717, 0.66666667, 0.2020202 , 0.85858586,\n",
       "       0.        , 0.11111111, 1.        , 0.98989899, 0.74747475,\n",
       "       0.06060606, 0.88888889, 0.33333333, 0.1010101 , 0.54545455,\n",
       "       0.67676768, 0.17171717, 0.66666667, 0.58585859, 0.45454545,\n",
       "       0.07070707, 0.09090909, 0.61616162, 0.88888889, 0.51515152,\n",
       "       0.11111111, 0.22222222, 0.85858586, 0.23232323, 0.67676768,\n",
       "       0.28282828, 0.70707071, 0.42424242, 0.80808081, 0.05050505,\n",
       "       0.15151515, 0.04040404, 0.82828283, 0.71717172, 0.49494949,\n",
       "       0.28282828, 0.31313131, 0.64646465, 0.37373737, 0.28282828,\n",
       "       0.19191919, 0.6969697 , 0.04040404, 0.48484848, 0.98989899,\n",
       "       0.91919192, 0.66666667, 0.24242424, 0.04040404, 0.76767677,\n",
       "       0.5959596 , 0.38383838, 0.23232323, 0.02020202, 0.17171717,\n",
       "       0.94949495, 0.06060606, 0.68686869, 0.91919192, 0.08080808,\n",
       "       0.1010101 , 0.74747475, 0.22222222, 0.72727273, 0.15151515,\n",
       "       0.75757576, 0.2020202 , 0.08080808, 0.87878788, 0.25252525,\n",
       "       0.56565657, 0.86868687, 0.61616162, 1.        , 0.18181818])"
      ]
     },
     "execution_count": 20,
     "metadata": {},
     "output_type": "execute_result"
    }
   ],
   "source": [
    "(x - np.min(x)) / (np.max(x) - np.min(x))"
   ]
  },
  {
   "cell_type": "code",
   "execution_count": 21,
   "metadata": {},
   "outputs": [],
   "source": [
    "X = np.random.randint(0, 100, size=(50, 2))"
   ]
  },
  {
   "cell_type": "code",
   "execution_count": 22,
   "metadata": {},
   "outputs": [
    {
     "data": {
      "text/plain": [
       "array([[19, 13],\n",
       "       [55, 97],\n",
       "       [65, 84],\n",
       "       [97,  6],\n",
       "       [82,  4],\n",
       "       [45, 21],\n",
       "       [12, 72],\n",
       "       [22, 83],\n",
       "       [48, 99],\n",
       "       [81, 21],\n",
       "       [94, 85],\n",
       "       [72, 73],\n",
       "       [88,  9],\n",
       "       [56, 49],\n",
       "       [ 4, 64],\n",
       "       [44, 56],\n",
       "       [34, 11],\n",
       "       [ 2, 22],\n",
       "       [53,  9],\n",
       "       [88,  9],\n",
       "       [14, 90],\n",
       "       [63, 89],\n",
       "       [74, 49],\n",
       "       [95, 15],\n",
       "       [26, 16],\n",
       "       [84, 90],\n",
       "       [90, 85],\n",
       "       [44, 63],\n",
       "       [38, 94],\n",
       "       [99, 79],\n",
       "       [60, 72],\n",
       "       [54, 22],\n",
       "       [69, 29],\n",
       "       [84, 51],\n",
       "       [85,  9],\n",
       "       [54, 61],\n",
       "       [64, 57],\n",
       "       [55, 32],\n",
       "       [66, 11],\n",
       "       [63, 67],\n",
       "       [ 7, 10],\n",
       "       [99,  0],\n",
       "       [94, 11],\n",
       "       [45, 73],\n",
       "       [63, 34],\n",
       "       [96, 53],\n",
       "       [17, 89],\n",
       "       [83,  5],\n",
       "       [47, 85],\n",
       "       [ 7, 30]])"
      ]
     },
     "execution_count": 22,
     "metadata": {},
     "output_type": "execute_result"
    }
   ],
   "source": [
    "X"
   ]
  },
  {
   "cell_type": "code",
   "execution_count": 23,
   "metadata": {},
   "outputs": [],
   "source": [
    "X = np.array(X, dtype='float')"
   ]
  },
  {
   "cell_type": "code",
   "execution_count": 25,
   "metadata": {},
   "outputs": [
    {
     "data": {
      "text/plain": [
       "array([[19., 13.],\n",
       "       [55., 97.],\n",
       "       [65., 84.],\n",
       "       [97.,  6.],\n",
       "       [82.,  4.],\n",
       "       [45., 21.],\n",
       "       [12., 72.],\n",
       "       [22., 83.],\n",
       "       [48., 99.],\n",
       "       [81., 21.]])"
      ]
     },
     "execution_count": 25,
     "metadata": {},
     "output_type": "execute_result"
    }
   ],
   "source": [
    "X[:10]"
   ]
  },
  {
   "cell_type": "code",
   "execution_count": 29,
   "metadata": {},
   "outputs": [],
   "source": [
    "X[:, 0] = (X[:, 0] - np.min(X[:, 0])) / (np.max(X[:, 0]) - np.min(X[:, 0]))"
   ]
  },
  {
   "cell_type": "code",
   "execution_count": 30,
   "metadata": {},
   "outputs": [
    {
     "data": {
      "text/plain": [
       "array([[ 0.17525773, 13.        ],\n",
       "       [ 0.54639175, 97.        ],\n",
       "       [ 0.64948454, 84.        ],\n",
       "       [ 0.97938144,  6.        ],\n",
       "       [ 0.82474227,  4.        ],\n",
       "       [ 0.44329897, 21.        ],\n",
       "       [ 0.10309278, 72.        ],\n",
       "       [ 0.20618557, 83.        ],\n",
       "       [ 0.4742268 , 99.        ],\n",
       "       [ 0.81443299, 21.        ]])"
      ]
     },
     "execution_count": 30,
     "metadata": {},
     "output_type": "execute_result"
    }
   ],
   "source": [
    "X[:10]"
   ]
  },
  {
   "cell_type": "code",
   "execution_count": 31,
   "metadata": {},
   "outputs": [],
   "source": [
    "X[:, 1] = (X[:, 1] - np.min(X[:, 1])) / (np.max(X[:, 1]) - np.min(X[:, 1]))"
   ]
  },
  {
   "cell_type": "code",
   "execution_count": 32,
   "metadata": {},
   "outputs": [
    {
     "data": {
      "text/plain": [
       "array([[0.17525773, 0.13131313],\n",
       "       [0.54639175, 0.97979798],\n",
       "       [0.64948454, 0.84848485],\n",
       "       [0.97938144, 0.06060606],\n",
       "       [0.82474227, 0.04040404],\n",
       "       [0.44329897, 0.21212121],\n",
       "       [0.10309278, 0.72727273],\n",
       "       [0.20618557, 0.83838384],\n",
       "       [0.4742268 , 1.        ],\n",
       "       [0.81443299, 0.21212121]])"
      ]
     },
     "execution_count": 32,
     "metadata": {},
     "output_type": "execute_result"
    }
   ],
   "source": [
    "X[:10]"
   ]
  },
  {
   "cell_type": "code",
   "execution_count": 34,
   "metadata": {},
   "outputs": [
    {
     "data": {
      "image/png": "[encoded data removed]",
      "text/plain": [
       "<matplotlib.figure.Figure at 0x1adb9b5fbe0>"
      ]
     },
     "metadata": {},
     "output_type": "display_data"
    }
   ],
   "source": [
    "import matplotlib.pyplot as plt\n",
    "plt.scatter(X[:, 0], X[:, 1])\n",
    "plt.show()"
   ]
  },
  {
   "cell_type": "code",
   "execution_count": 36,
   "metadata": {},
   "outputs": [
    {
     "data": {
      "text/plain": [
       "0.5773195876288659"
      ]
     },
     "execution_count": 36,
     "metadata": {},
     "output_type": "execute_result"
    }
   ],
   "source": [
    "X[:, 0].mean()"
   ]
  },
  {
   "cell_type": "code",
   "execution_count": 37,
   "metadata": {},
   "outputs": [
    {
     "data": {
      "text/plain": [
       "0.2936172244660304"
      ]
     },
     "execution_count": 37,
     "metadata": {},
     "output_type": "execute_result"
    }
   ],
   "source": [
    "X[:, 0].std()"
   ]
  },
  {
   "cell_type": "code",
   "execution_count": 38,
   "metadata": {},
   "outputs": [
    {
     "data": {
      "text/plain": [
       "0.4763636363636364"
      ]
     },
     "execution_count": 38,
     "metadata": {},
     "output_type": "execute_result"
    }
   ],
   "source": [
    "X[:, 1].mean()"
   ]
  },
  {
   "cell_type": "code",
   "execution_count": 39,
   "metadata": {},
   "outputs": [
    {
     "data": {
      "text/plain": [
       "0.32552444872494884"
      ]
     },
     "execution_count": 39,
     "metadata": {},
     "output_type": "execute_result"
    }
   ],
   "source": [
    "X[:, 1].std()"
   ]
  },
  {
   "cell_type": "markdown",
   "metadata": {},
   "source": [
    "## 均值方差归一化"
   ]
  },
  {
   "cell_type": "code",
   "execution_count": 40,
   "metadata": {},
   "outputs": [],
   "source": [
    "X2 = np.random.randint(0, 100, size=(50, 2))"
   ]
  },
  {
   "cell_type": "code",
   "execution_count": 41,
   "metadata": {},
   "outputs": [],
   "source": [
    "X2 = np.array(X2, dtype=\"float\")"
   ]
  },
  {
   "cell_type": "code",
   "execution_count": 42,
   "metadata": {},
   "outputs": [],
   "source": [
    "X2[:, 0] = (X2[:, 0] - np.mean(X2[:, 0])) / np.std(X2[:, 0])\n",
    "X2[:, 1] = (X2[:, 1] - np.mean(X2[:, 1])) / np.std(X2[:, 1])"
   ]
  },
  {
   "cell_type": "code",
   "execution_count": 43,
   "metadata": {},
   "outputs": [
    {
     "data": {
      "image/png": "[encoded data removed]",
      "text/plain": [
       "<matplotlib.figure.Figure at 0x1adb8eca7b8>"
      ]
     },
     "metadata": {},
     "output_type": "display_data"
    }
   ],
   "source": [
    "plt.scatter(X2[:, 0], X2[:, 1])\n",
    "plt.show()"
   ]
  },
  {
   "cell_type": "code",
   "execution_count": 48,
   "metadata": {},
   "outputs": [
    {
     "data": {
      "text/plain": [
       "-2.2204460492503132e-17"
      ]
     },
     "execution_count": 48,
     "metadata": {},
     "output_type": "execute_result"
    }
   ],
   "source": [
    "np.mean(X2[:, 0])"
   ]
  },
  {
   "cell_type": "code",
   "execution_count": 51,
   "metadata": {},
   "outputs": [
    {
     "data": {
      "text/plain": [
       "1.0"
      ]
     },
     "execution_count": 51,
     "metadata": {},
     "output_type": "execute_result"
    }
   ],
   "source": [
    "np.std(X2[:, 0])"
   ]
  },
  {
   "cell_type": "code",
   "execution_count": 52,
   "metadata": {},
   "outputs": [
    {
     "data": {
      "text/plain": [
       "4.440892098500626e-18"
      ]
     },
     "execution_count": 52,
     "metadata": {},
     "output_type": "execute_result"
    }
   ],
   "source": [
    "np.mean(X2[:, 1])"
   ]
  },
  {
   "cell_type": "code",
   "execution_count": 54,
   "metadata": {},
   "outputs": [
    {
     "data": {
      "text/plain": [
       "1.0"
      ]
     },
     "execution_count": 54,
     "metadata": {},
     "output_type": "execute_result"
    }
   ],
   "source": [
    "np.std(X2[:, 1])"
   ]
  },
  {
   "cell_type": "code",
   "execution_count": null,
   "metadata": {},
   "outputs": [],
   "source": []
  }
 ],
 "metadata": {
  "kernelspec": {
   "display_name": "Python 3",
   "language": "python",
   "name": "python3"
  },
  "language_info": {
   "codemirror_mode": {
    "name": "ipython",
    "version": 3
   },
   "file_extension": ".py",
   "mimetype": "text/x-python",
   "name": "python",
   "nbconvert_exporter": "python",
   "pygments_lexer": "ipython3",
   "version": "3.7.3"
  }
 },
 "nbformat": 4,
 "nbformat_minor": 2
}
